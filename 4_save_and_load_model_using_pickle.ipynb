{
 "cells": [
  {
   "cell_type": "markdown",
   "metadata": {},
   "source": [
    "<h2 style=\"color:green\" align=\"center\">Machine Learning With Python: Save And Load Trained Model</h2>"
   ]
  },
  {
   "cell_type": "code",
   "execution_count": 2,
   "metadata": {},
   "outputs": [
    {
     "name": "stdout",
     "output_type": "stream",
     "text": [
      "Collecting tensorflowNote: you may need to restart the kernel to use updated packages.\n",
      "\n",
      "  Using cached tensorflow-2.17.0-cp312-cp312-win_amd64.whl.metadata (3.2 kB)\n",
      "Collecting tensorflow-intel==2.17.0 (from tensorflow)\n",
      "  Using cached tensorflow_intel-2.17.0-cp312-cp312-win_amd64.whl.metadata (5.0 kB)\n",
      "Collecting absl-py>=1.0.0 (from tensorflow-intel==2.17.0->tensorflow)\n",
      "  Using cached absl_py-2.1.0-py3-none-any.whl.metadata (2.3 kB)\n",
      "Collecting astunparse>=1.6.0 (from tensorflow-intel==2.17.0->tensorflow)\n",
      "  Using cached astunparse-1.6.3-py2.py3-none-any.whl.metadata (4.4 kB)\n",
      "Collecting flatbuffers>=24.3.25 (from tensorflow-intel==2.17.0->tensorflow)\n",
      "  Using cached flatbuffers-24.3.25-py2.py3-none-any.whl.metadata (850 bytes)\n",
      "Collecting gast!=0.5.0,!=0.5.1,!=0.5.2,>=0.2.1 (from tensorflow-intel==2.17.0->tensorflow)\n",
      "  Using cached gast-0.6.0-py3-none-any.whl.metadata (1.3 kB)\n",
      "Collecting google-pasta>=0.1.1 (from tensorflow-intel==2.17.0->tensorflow)\n",
      "  Using cached google_pasta-0.2.0-py3-none-any.whl.metadata (814 bytes)\n",
      "Collecting h5py>=3.10.0 (from tensorflow-intel==2.17.0->tensorflow)\n",
      "  Downloading h5py-3.12.1-cp312-cp312-win_amd64.whl.metadata (2.5 kB)\n",
      "Collecting libclang>=13.0.0 (from tensorflow-intel==2.17.0->tensorflow)\n",
      "  Using cached libclang-18.1.1-py2.py3-none-win_amd64.whl.metadata (5.3 kB)\n",
      "Collecting ml-dtypes<0.5.0,>=0.3.1 (from tensorflow-intel==2.17.0->tensorflow)\n",
      "  Downloading ml_dtypes-0.4.1-cp312-cp312-win_amd64.whl.metadata (20 kB)\n",
      "Collecting opt-einsum>=2.3.2 (from tensorflow-intel==2.17.0->tensorflow)\n",
      "  Downloading opt_einsum-3.4.0-py3-none-any.whl.metadata (6.3 kB)\n",
      "Requirement already satisfied: packaging in c:\\desktop\\sam's python\\.conda\\lib\\site-packages (from tensorflow-intel==2.17.0->tensorflow) (24.1)\n",
      "Collecting protobuf!=4.21.0,!=4.21.1,!=4.21.2,!=4.21.3,!=4.21.4,!=4.21.5,<5.0.0dev,>=3.20.3 (from tensorflow-intel==2.17.0->tensorflow)\n",
      "  Downloading protobuf-4.25.5-cp310-abi3-win_amd64.whl.metadata (541 bytes)\n",
      "Requirement already satisfied: requests<3,>=2.21.0 in c:\\desktop\\sam's python\\.conda\\lib\\site-packages (from tensorflow-intel==2.17.0->tensorflow) (2.32.2)\n",
      "Requirement already satisfied: setuptools in c:\\desktop\\sam's python\\.conda\\lib\\site-packages (from tensorflow-intel==2.17.0->tensorflow) (69.5.1)\n",
      "Requirement already satisfied: six>=1.12.0 in c:\\desktop\\sam's python\\.conda\\lib\\site-packages (from tensorflow-intel==2.17.0->tensorflow) (1.16.0)\n",
      "Collecting termcolor>=1.1.0 (from tensorflow-intel==2.17.0->tensorflow)\n",
      "  Using cached termcolor-2.4.0-py3-none-any.whl.metadata (6.1 kB)\n",
      "Requirement already satisfied: typing-extensions>=3.6.6 in c:\\desktop\\sam's python\\.conda\\lib\\site-packages (from tensorflow-intel==2.17.0->tensorflow) (4.11.0)\n",
      "Collecting wrapt>=1.11.0 (from tensorflow-intel==2.17.0->tensorflow)\n",
      "  Downloading wrapt-1.16.0-cp312-cp312-win_amd64.whl.metadata (6.8 kB)\n",
      "Collecting grpcio<2.0,>=1.24.3 (from tensorflow-intel==2.17.0->tensorflow)\n",
      "  Downloading grpcio-1.66.2-cp312-cp312-win_amd64.whl.metadata (4.0 kB)\n",
      "Collecting tensorboard<2.18,>=2.17 (from tensorflow-intel==2.17.0->tensorflow)\n",
      "  Using cached tensorboard-2.17.1-py3-none-any.whl.metadata (1.6 kB)\n",
      "Collecting keras>=3.2.0 (from tensorflow-intel==2.17.0->tensorflow)\n",
      "  Using cached keras-3.5.0-py3-none-any.whl.metadata (5.8 kB)\n",
      "Collecting numpy<2.0.0,>=1.26.0 (from tensorflow-intel==2.17.0->tensorflow)\n",
      "  Downloading numpy-1.26.4-cp312-cp312-win_amd64.whl.metadata (61 kB)\n",
      "     ---------------------------------------- 0.0/61.0 kB ? eta -:--:--\n",
      "     ------ --------------------------------- 10.2/61.0 kB ? eta -:--:--\n",
      "     -------------------------------------- 61.0/61.0 kB 643.0 kB/s eta 0:00:00\n",
      "Requirement already satisfied: wheel<1.0,>=0.23.0 in c:\\desktop\\sam's python\\.conda\\lib\\site-packages (from astunparse>=1.6.0->tensorflow-intel==2.17.0->tensorflow) (0.43.0)\n",
      "Collecting rich (from keras>=3.2.0->tensorflow-intel==2.17.0->tensorflow)\n",
      "  Downloading rich-13.9.1-py3-none-any.whl.metadata (18 kB)\n",
      "Collecting namex (from keras>=3.2.0->tensorflow-intel==2.17.0->tensorflow)\n",
      "  Using cached namex-0.0.8-py3-none-any.whl.metadata (246 bytes)\n",
      "Collecting optree (from keras>=3.2.0->tensorflow-intel==2.17.0->tensorflow)\n",
      "  Using cached optree-0.12.1-cp312-cp312-win_amd64.whl.metadata (48 kB)\n",
      "Requirement already satisfied: charset-normalizer<4,>=2 in c:\\desktop\\sam's python\\.conda\\lib\\site-packages (from requests<3,>=2.21.0->tensorflow-intel==2.17.0->tensorflow) (2.0.4)\n",
      "Requirement already satisfied: idna<4,>=2.5 in c:\\desktop\\sam's python\\.conda\\lib\\site-packages (from requests<3,>=2.21.0->tensorflow-intel==2.17.0->tensorflow) (3.7)\n",
      "Requirement already satisfied: urllib3<3,>=1.21.1 in c:\\desktop\\sam's python\\.conda\\lib\\site-packages (from requests<3,>=2.21.0->tensorflow-intel==2.17.0->tensorflow) (2.2.2)\n",
      "Requirement already satisfied: certifi>=2017.4.17 in c:\\desktop\\sam's python\\.conda\\lib\\site-packages (from requests<3,>=2.21.0->tensorflow-intel==2.17.0->tensorflow) (2024.7.4)\n",
      "Collecting markdown>=2.6.8 (from tensorboard<2.18,>=2.17->tensorflow-intel==2.17.0->tensorflow)\n",
      "  Downloading Markdown-3.7-py3-none-any.whl.metadata (7.0 kB)\n",
      "Collecting tensorboard-data-server<0.8.0,>=0.7.0 (from tensorboard<2.18,>=2.17->tensorflow-intel==2.17.0->tensorflow)\n",
      "  Using cached tensorboard_data_server-0.7.2-py3-none-any.whl.metadata (1.1 kB)\n",
      "Collecting werkzeug>=1.0.1 (from tensorboard<2.18,>=2.17->tensorflow-intel==2.17.0->tensorflow)\n",
      "  Downloading werkzeug-3.0.4-py3-none-any.whl.metadata (3.7 kB)\n",
      "Requirement already satisfied: MarkupSafe>=2.1.1 in c:\\desktop\\sam's python\\.conda\\lib\\site-packages (from werkzeug>=1.0.1->tensorboard<2.18,>=2.17->tensorflow-intel==2.17.0->tensorflow) (2.1.3)\n",
      "Collecting markdown-it-py>=2.2.0 (from rich->keras>=3.2.0->tensorflow-intel==2.17.0->tensorflow)\n",
      "  Downloading markdown_it_py-3.0.0-py3-none-any.whl.metadata (6.9 kB)\n",
      "Requirement already satisfied: pygments<3.0.0,>=2.13.0 in c:\\desktop\\sam's python\\.conda\\lib\\site-packages (from rich->keras>=3.2.0->tensorflow-intel==2.17.0->tensorflow) (2.15.1)\n",
      "Collecting mdurl~=0.1 (from markdown-it-py>=2.2.0->rich->keras>=3.2.0->tensorflow-intel==2.17.0->tensorflow)\n",
      "  Downloading mdurl-0.1.2-py3-none-any.whl.metadata (1.6 kB)\n",
      "Using cached tensorflow-2.17.0-cp312-cp312-win_amd64.whl (2.0 kB)\n",
      "Using cached tensorflow_intel-2.17.0-cp312-cp312-win_amd64.whl (385.2 MB)\n",
      "Using cached absl_py-2.1.0-py3-none-any.whl (133 kB)\n",
      "Using cached astunparse-1.6.3-py2.py3-none-any.whl (12 kB)\n",
      "Using cached flatbuffers-24.3.25-py2.py3-none-any.whl (26 kB)\n",
      "Using cached gast-0.6.0-py3-none-any.whl (21 kB)\n",
      "Using cached google_pasta-0.2.0-py3-none-any.whl (57 kB)\n",
      "Downloading grpcio-1.66.2-cp312-cp312-win_amd64.whl (4.3 MB)\n",
      "   ---------------------------------------- 0.0/4.3 MB ? eta -:--:--\n",
      "   ---------------------------------------- 0.1/4.3 MB 2.7 MB/s eta 0:00:02\n",
      "    --------------------------------------- 0.1/4.3 MB 1.5 MB/s eta 0:00:03\n",
      "   - -------------------------------------- 0.2/4.3 MB 1.5 MB/s eta 0:00:03\n",
      "   -- ------------------------------------- 0.2/4.3 MB 1.6 MB/s eta 0:00:03\n",
      "   --- ------------------------------------ 0.3/4.3 MB 1.6 MB/s eta 0:00:03\n",
      "   ---- ----------------------------------- 0.4/4.3 MB 1.8 MB/s eta 0:00:03\n",
      "   ---- ----------------------------------- 0.5/4.3 MB 1.7 MB/s eta 0:00:03\n",
      "   ------ --------------------------------- 0.7/4.3 MB 2.0 MB/s eta 0:00:02\n",
      "   ------ --------------------------------- 0.7/4.3 MB 1.9 MB/s eta 0:00:02\n",
      "   -------- ------------------------------- 0.9/4.3 MB 2.0 MB/s eta 0:00:02\n",
      "   --------- ------------------------------ 1.0/4.3 MB 2.1 MB/s eta 0:00:02\n",
      "   --------- ------------------------------ 1.1/4.3 MB 2.0 MB/s eta 0:00:02\n",
      "   ----------- ---------------------------- 1.2/4.3 MB 2.1 MB/s eta 0:00:02\n",
      "   ------------ --------------------------- 1.3/4.3 MB 2.1 MB/s eta 0:00:02\n",
      "   ------------- -------------------------- 1.4/4.3 MB 2.1 MB/s eta 0:00:02\n",
      "   -------------- ------------------------- 1.6/4.3 MB 2.2 MB/s eta 0:00:02\n",
      "   --------------- ------------------------ 1.6/4.3 MB 2.1 MB/s eta 0:00:02\n",
      "   --------------- ------------------------ 1.7/4.3 MB 2.1 MB/s eta 0:00:02\n",
      "   ---------------- ----------------------- 1.8/4.3 MB 2.1 MB/s eta 0:00:02\n",
      "   ----------------- ---------------------- 1.9/4.3 MB 2.1 MB/s eta 0:00:02\n",
      "   ------------------ --------------------- 2.0/4.3 MB 2.1 MB/s eta 0:00:02\n",
      "   ------------------- -------------------- 2.1/4.3 MB 2.1 MB/s eta 0:00:02\n",
      "   --------------------- ------------------ 2.3/4.3 MB 2.2 MB/s eta 0:00:01\n",
      "   ---------------------- ----------------- 2.4/4.3 MB 2.2 MB/s eta 0:00:01\n",
      "   ----------------------- ---------------- 2.5/4.3 MB 2.2 MB/s eta 0:00:01\n",
      "   ------------------------ --------------- 2.7/4.3 MB 2.2 MB/s eta 0:00:01\n",
      "   ------------------------- -------------- 2.7/4.3 MB 2.2 MB/s eta 0:00:01\n",
      "   -------------------------- ------------- 2.9/4.3 MB 2.3 MB/s eta 0:00:01\n",
      "   --------------------------- ------------ 3.0/4.3 MB 2.3 MB/s eta 0:00:01\n",
      "   --------------------------- ------------ 3.0/4.3 MB 2.3 MB/s eta 0:00:01\n",
      "   ----------------------------- ---------- 3.2/4.3 MB 2.3 MB/s eta 0:00:01\n",
      "   ----------------------------- ---------- 3.2/4.3 MB 2.3 MB/s eta 0:00:01\n",
      "   ------------------------------- -------- 3.4/4.3 MB 2.2 MB/s eta 0:00:01\n",
      "   --------------------------------- ------ 3.6/4.3 MB 2.3 MB/s eta 0:00:01\n",
      "   --------------------------------- ------ 3.6/4.3 MB 2.3 MB/s eta 0:00:01\n",
      "   --------------------------------- ------ 3.6/4.3 MB 2.3 MB/s eta 0:00:01\n",
      "   --------------------------------- ------ 3.6/4.3 MB 2.3 MB/s eta 0:00:01\n",
      "   --------------------------------- ------ 3.6/4.3 MB 2.3 MB/s eta 0:00:01\n",
      "   --------------------------------- ------ 3.6/4.3 MB 2.3 MB/s eta 0:00:01\n",
      "   --------------------------------- ------ 3.6/4.3 MB 2.3 MB/s eta 0:00:01\n",
      "   ----------------------------------- ---- 3.8/4.3 MB 2.0 MB/s eta 0:00:01\n",
      "   ------------------------------------ --- 3.9/4.3 MB 2.1 MB/s eta 0:00:01\n",
      "   -------------------------------------- - 4.1/4.3 MB 2.1 MB/s eta 0:00:01\n",
      "   ---------------------------------------  4.3/4.3 MB 2.1 MB/s eta 0:00:01\n",
      "   ---------------------------------------- 4.3/4.3 MB 2.1 MB/s eta 0:00:00\n",
      "Downloading h5py-3.12.1-cp312-cp312-win_amd64.whl (3.0 MB)\n",
      "   ---------------------------------------- 0.0/3.0 MB ? eta -:--:--\n",
      "   ---------------------------------------- 0.0/3.0 MB ? eta -:--:--\n",
      "   - -------------------------------------- 0.1/3.0 MB 1.7 MB/s eta 0:00:02\n",
      "   -- ------------------------------------- 0.2/3.0 MB 1.6 MB/s eta 0:00:02\n",
      "   ---- ----------------------------------- 0.3/3.0 MB 2.0 MB/s eta 0:00:02\n",
      "   ----- ---------------------------------- 0.4/3.0 MB 2.0 MB/s eta 0:00:02\n",
      "   ------- -------------------------------- 0.6/3.0 MB 2.0 MB/s eta 0:00:02\n",
      "   --------- ------------------------------ 0.7/3.0 MB 2.3 MB/s eta 0:00:01\n",
      "   ---------- ----------------------------- 0.8/3.0 MB 2.3 MB/s eta 0:00:01\n",
      "   ------------- -------------------------- 1.0/3.0 MB 2.5 MB/s eta 0:00:01\n",
      "   -------------- ------------------------- 1.1/3.0 MB 2.4 MB/s eta 0:00:01\n",
      "   ---------------- ----------------------- 1.3/3.0 MB 2.6 MB/s eta 0:00:01\n",
      "   ----------------- ---------------------- 1.3/3.0 MB 2.5 MB/s eta 0:00:01\n",
      "   ------------------- -------------------- 1.4/3.0 MB 2.4 MB/s eta 0:00:01\n",
      "   --------------------- ------------------ 1.6/3.0 MB 2.6 MB/s eta 0:00:01\n",
      "   ---------------------- ----------------- 1.7/3.0 MB 2.6 MB/s eta 0:00:01\n",
      "   ------------------------ --------------- 1.8/3.0 MB 2.5 MB/s eta 0:00:01\n",
      "   --------------------------- ------------ 2.1/3.0 MB 2.7 MB/s eta 0:00:01\n",
      "   --------------------------- ------------ 2.1/3.0 MB 2.7 MB/s eta 0:00:01\n",
      "   ---------------------------- ----------- 2.1/3.0 MB 2.5 MB/s eta 0:00:01\n",
      "   ----------------------------- ---------- 2.2/3.0 MB 2.5 MB/s eta 0:00:01\n",
      "   ------------------------------- -------- 2.3/3.0 MB 2.4 MB/s eta 0:00:01\n",
      "   ---------------------------------- ----- 2.6/3.0 MB 2.6 MB/s eta 0:00:01\n",
      "   ----------------------------------- ---- 2.7/3.0 MB 2.5 MB/s eta 0:00:01\n",
      "   ------------------------------------- -- 2.8/3.0 MB 2.6 MB/s eta 0:00:01\n",
      "   ---------------------------------------- 3.0/3.0 MB 2.6 MB/s eta 0:00:00\n",
      "Using cached keras-3.5.0-py3-none-any.whl (1.1 MB)\n",
      "Using cached libclang-18.1.1-py2.py3-none-win_amd64.whl (26.4 MB)\n",
      "Downloading ml_dtypes-0.4.1-cp312-cp312-win_amd64.whl (127 kB)\n",
      "   ---------------------------------------- 0.0/127.5 kB ? eta -:--:--\n",
      "   ------------------------- -------------- 81.9/127.5 kB 2.2 MB/s eta 0:00:01\n",
      "   -------------------------------------- - 122.9/127.5 kB 1.4 MB/s eta 0:00:01\n",
      "   ---------------------------------------- 127.5/127.5 kB 1.2 MB/s eta 0:00:00\n",
      "Downloading numpy-1.26.4-cp312-cp312-win_amd64.whl (15.5 MB)\n",
      "   ---------------------------------------- 0.0/15.5 MB ? eta -:--:--\n",
      "   ---------------------------------------- 0.1/15.5 MB 3.5 MB/s eta 0:00:05\n",
      "    --------------------------------------- 0.2/15.5 MB 3.0 MB/s eta 0:00:06\n",
      "   - -------------------------------------- 0.5/15.5 MB 3.5 MB/s eta 0:00:05\n",
      "   - -------------------------------------- 0.5/15.5 MB 3.7 MB/s eta 0:00:05\n",
      "   - -------------------------------------- 0.7/15.5 MB 3.0 MB/s eta 0:00:05\n",
      "   -- ------------------------------------- 0.9/15.5 MB 3.4 MB/s eta 0:00:05\n",
      "   -- ------------------------------------- 1.0/15.5 MB 3.2 MB/s eta 0:00:05\n",
      "   --- ------------------------------------ 1.2/15.5 MB 3.4 MB/s eta 0:00:05\n",
      "   --- ------------------------------------ 1.4/15.5 MB 3.6 MB/s eta 0:00:04\n",
      "   --- ------------------------------------ 1.5/15.5 MB 3.3 MB/s eta 0:00:05\n",
      "   ---- ----------------------------------- 1.7/15.5 MB 3.3 MB/s eta 0:00:05\n",
      "   ---- ----------------------------------- 1.8/15.5 MB 3.2 MB/s eta 0:00:05\n",
      "   ----- ---------------------------------- 2.0/15.5 MB 3.3 MB/s eta 0:00:05\n",
      "   ----- ---------------------------------- 2.2/15.5 MB 3.3 MB/s eta 0:00:05\n",
      "   ----- ---------------------------------- 2.2/15.5 MB 3.3 MB/s eta 0:00:05\n",
      "   ----- ---------------------------------- 2.2/15.5 MB 3.3 MB/s eta 0:00:05\n",
      "   ----- ---------------------------------- 2.2/15.5 MB 3.3 MB/s eta 0:00:05\n",
      "   ------ --------------------------------- 2.7/15.5 MB 3.2 MB/s eta 0:00:05\n",
      "   ------- -------------------------------- 2.7/15.5 MB 3.1 MB/s eta 0:00:05\n",
      "   ------- -------------------------------- 2.8/15.5 MB 3.1 MB/s eta 0:00:05\n",
      "   ------- -------------------------------- 3.0/15.5 MB 3.1 MB/s eta 0:00:05\n",
      "   ------- -------------------------------- 3.1/15.5 MB 3.1 MB/s eta 0:00:04\n",
      "   -------- ------------------------------- 3.2/15.5 MB 3.1 MB/s eta 0:00:05\n",
      "   -------- ------------------------------- 3.3/15.5 MB 3.0 MB/s eta 0:00:05\n",
      "   -------- ------------------------------- 3.3/15.5 MB 2.9 MB/s eta 0:00:05\n",
      "   -------- ------------------------------- 3.4/15.5 MB 2.9 MB/s eta 0:00:05\n",
      "   -------- ------------------------------- 3.5/15.5 MB 2.9 MB/s eta 0:00:05\n",
      "   --------- ------------------------------ 3.6/15.5 MB 2.8 MB/s eta 0:00:05\n",
      "   --------- ------------------------------ 3.6/15.5 MB 2.7 MB/s eta 0:00:05\n",
      "   --------- ------------------------------ 3.7/15.5 MB 2.7 MB/s eta 0:00:05\n",
      "   --------- ------------------------------ 3.8/15.5 MB 2.7 MB/s eta 0:00:05\n",
      "   ---------- ----------------------------- 4.0/15.5 MB 2.7 MB/s eta 0:00:05\n",
      "   ---------- ----------------------------- 4.0/15.5 MB 2.6 MB/s eta 0:00:05\n",
      "   ---------- ----------------------------- 4.2/15.5 MB 2.7 MB/s eta 0:00:05\n",
      "   ----------- ---------------------------- 4.3/15.5 MB 2.6 MB/s eta 0:00:05\n",
      "   ----------- ---------------------------- 4.5/15.5 MB 2.7 MB/s eta 0:00:05\n",
      "   ----------- ---------------------------- 4.5/15.5 MB 2.7 MB/s eta 0:00:05\n",
      "   ----------- ---------------------------- 4.6/15.5 MB 2.6 MB/s eta 0:00:05\n",
      "   ------------ --------------------------- 4.8/15.5 MB 2.7 MB/s eta 0:00:04\n",
      "   ------------ --------------------------- 4.9/15.5 MB 2.7 MB/s eta 0:00:04\n",
      "   ------------- -------------------------- 5.1/15.5 MB 2.7 MB/s eta 0:00:04\n",
      "   ------------- -------------------------- 5.3/15.5 MB 2.8 MB/s eta 0:00:04\n",
      "   ------------- -------------------------- 5.4/15.5 MB 2.7 MB/s eta 0:00:04\n",
      "   -------------- ------------------------- 5.6/15.5 MB 2.8 MB/s eta 0:00:04\n",
      "   -------------- ------------------------- 5.7/15.5 MB 2.8 MB/s eta 0:00:04\n",
      "   -------------- ------------------------- 5.8/15.5 MB 2.7 MB/s eta 0:00:04\n",
      "   --------------- ------------------------ 6.0/15.5 MB 2.8 MB/s eta 0:00:04\n",
      "   --------------- ------------------------ 6.0/15.5 MB 2.7 MB/s eta 0:00:04\n",
      "   --------------- ------------------------ 6.1/15.5 MB 2.7 MB/s eta 0:00:04\n",
      "   ---------------- ----------------------- 6.3/15.5 MB 2.8 MB/s eta 0:00:04\n",
      "   ---------------- ----------------------- 6.4/15.5 MB 2.7 MB/s eta 0:00:04\n",
      "   ----------------- ---------------------- 6.6/15.5 MB 2.8 MB/s eta 0:00:04\n",
      "   ----------------- ---------------------- 6.7/15.5 MB 2.7 MB/s eta 0:00:04\n",
      "   ----------------- ---------------------- 6.8/15.5 MB 2.7 MB/s eta 0:00:04\n",
      "   ------------------ --------------------- 7.0/15.5 MB 2.8 MB/s eta 0:00:04\n",
      "   ------------------ --------------------- 7.1/15.5 MB 2.8 MB/s eta 0:00:04\n",
      "   ------------------ --------------------- 7.3/15.5 MB 2.8 MB/s eta 0:00:03\n",
      "   ------------------ --------------------- 7.4/15.5 MB 2.8 MB/s eta 0:00:03\n",
      "   ------------------- -------------------- 7.5/15.5 MB 2.8 MB/s eta 0:00:03\n",
      "   ------------------- -------------------- 7.6/15.5 MB 2.8 MB/s eta 0:00:03\n",
      "   ------------------- -------------------- 7.7/15.5 MB 2.8 MB/s eta 0:00:03\n",
      "   -------------------- ------------------- 7.9/15.5 MB 2.8 MB/s eta 0:00:03\n",
      "   -------------------- ------------------- 7.9/15.5 MB 2.8 MB/s eta 0:00:03\n",
      "   -------------------- ------------------- 8.1/15.5 MB 2.7 MB/s eta 0:00:03\n",
      "   --------------------- ------------------ 8.2/15.5 MB 2.8 MB/s eta 0:00:03\n",
      "   --------------------- ------------------ 8.3/15.5 MB 2.7 MB/s eta 0:00:03\n",
      "   --------------------- ------------------ 8.4/15.5 MB 2.7 MB/s eta 0:00:03\n",
      "   ---------------------- ----------------- 8.6/15.5 MB 2.8 MB/s eta 0:00:03\n",
      "   ---------------------- ----------------- 8.7/15.5 MB 2.7 MB/s eta 0:00:03\n",
      "   ---------------------- ----------------- 8.8/15.5 MB 2.7 MB/s eta 0:00:03\n",
      "   ---------------------- ----------------- 8.8/15.5 MB 2.7 MB/s eta 0:00:03\n",
      "   ---------------------- ----------------- 8.8/15.5 MB 2.7 MB/s eta 0:00:03\n",
      "   ---------------------- ----------------- 8.8/15.5 MB 2.7 MB/s eta 0:00:03\n",
      "   ---------------------- ----------------- 8.8/15.5 MB 2.7 MB/s eta 0:00:03\n",
      "   ---------------------- ----------------- 8.8/15.5 MB 2.7 MB/s eta 0:00:03\n",
      "   ---------------------- ----------------- 8.8/15.5 MB 2.7 MB/s eta 0:00:03\n",
      "   ---------------------- ----------------- 8.8/15.5 MB 2.7 MB/s eta 0:00:03\n",
      "   ---------------------- ----------------- 8.8/15.5 MB 2.7 MB/s eta 0:00:03\n",
      "   ---------------------- ----------------- 8.8/15.5 MB 2.7 MB/s eta 0:00:03\n",
      "   ----------------------- ---------------- 9.2/15.5 MB 2.5 MB/s eta 0:00:03\n",
      "   ------------------------ --------------- 9.3/15.5 MB 2.5 MB/s eta 0:00:03\n",
      "   ------------------------ --------------- 9.4/15.5 MB 2.5 MB/s eta 0:00:03\n",
      "   ------------------------ --------------- 9.5/15.5 MB 2.5 MB/s eta 0:00:03\n",
      "   ------------------------ --------------- 9.6/15.5 MB 2.5 MB/s eta 0:00:03\n",
      "   ------------------------- -------------- 9.8/15.5 MB 2.5 MB/s eta 0:00:03\n",
      "   ------------------------- -------------- 9.9/15.5 MB 2.5 MB/s eta 0:00:03\n",
      "   ------------------------- -------------- 10.0/15.5 MB 2.5 MB/s eta 0:00:03\n",
      "   -------------------------- ------------- 10.1/15.5 MB 2.5 MB/s eta 0:00:03\n",
      "   -------------------------- ------------- 10.2/15.5 MB 2.5 MB/s eta 0:00:03\n",
      "   -------------------------- ------------- 10.4/15.5 MB 2.5 MB/s eta 0:00:03\n",
      "   --------------------------- ------------ 10.5/15.5 MB 2.5 MB/s eta 0:00:03\n",
      "   --------------------------- ------------ 10.6/15.5 MB 2.5 MB/s eta 0:00:02\n",
      "   --------------------------- ------------ 10.8/15.5 MB 2.5 MB/s eta 0:00:02\n",
      "   ---------------------------- ----------- 10.9/15.5 MB 2.5 MB/s eta 0:00:02\n",
      "   ---------------------------- ----------- 11.0/15.5 MB 2.5 MB/s eta 0:00:02\n",
      "   ----------------------------- ---------- 11.3/15.5 MB 2.5 MB/s eta 0:00:02\n",
      "   ----------------------------- ---------- 11.4/15.5 MB 2.5 MB/s eta 0:00:02\n",
      "   ----------------------------- ---------- 11.6/15.5 MB 2.5 MB/s eta 0:00:02\n",
      "   ------------------------------ --------- 11.7/15.5 MB 2.5 MB/s eta 0:00:02\n",
      "   ------------------------------ --------- 11.8/15.5 MB 2.5 MB/s eta 0:00:02\n",
      "   ------------------------------- -------- 12.0/15.5 MB 2.5 MB/s eta 0:00:02\n",
      "   ------------------------------- -------- 12.1/15.5 MB 2.5 MB/s eta 0:00:02\n",
      "   ------------------------------- -------- 12.3/15.5 MB 2.5 MB/s eta 0:00:02\n",
      "   ------------------------------- -------- 12.3/15.5 MB 2.5 MB/s eta 0:00:02\n",
      "   -------------------------------- ------- 12.5/15.5 MB 2.5 MB/s eta 0:00:02\n",
      "   -------------------------------- ------- 12.7/15.5 MB 2.5 MB/s eta 0:00:02\n",
      "   -------------------------------- ------- 12.7/15.5 MB 2.5 MB/s eta 0:00:02\n",
      "   --------------------------------- ------ 13.0/15.5 MB 2.5 MB/s eta 0:00:02\n",
      "   --------------------------------- ------ 13.1/15.5 MB 2.5 MB/s eta 0:00:01\n",
      "   ---------------------------------- ----- 13.3/15.5 MB 2.5 MB/s eta 0:00:01\n",
      "   ---------------------------------- ----- 13.5/15.5 MB 2.5 MB/s eta 0:00:01\n",
      "   ----------------------------------- ---- 13.6/15.5 MB 2.6 MB/s eta 0:00:01\n",
      "   ----------------------------------- ---- 13.8/15.5 MB 2.6 MB/s eta 0:00:01\n",
      "   ----------------------------------- ---- 13.9/15.5 MB 2.6 MB/s eta 0:00:01\n",
      "   ------------------------------------ --- 14.0/15.5 MB 2.6 MB/s eta 0:00:01\n",
      "   ------------------------------------ --- 14.1/15.5 MB 2.6 MB/s eta 0:00:01\n",
      "   ------------------------------------ --- 14.2/15.5 MB 2.6 MB/s eta 0:00:01\n",
      "   ------------------------------------- -- 14.4/15.5 MB 2.6 MB/s eta 0:00:01\n",
      "   ------------------------------------- -- 14.6/15.5 MB 2.7 MB/s eta 0:00:01\n",
      "   ------------------------------------- -- 14.7/15.5 MB 2.6 MB/s eta 0:00:01\n",
      "   -------------------------------------- - 14.8/15.5 MB 2.7 MB/s eta 0:00:01\n",
      "   -------------------------------------- - 14.9/15.5 MB 2.7 MB/s eta 0:00:01\n",
      "   -------------------------------------- - 15.1/15.5 MB 2.6 MB/s eta 0:00:01\n",
      "   ---------------------------------------  15.3/15.5 MB 2.7 MB/s eta 0:00:01\n",
      "   ---------------------------------------  15.4/15.5 MB 2.7 MB/s eta 0:00:01\n",
      "   ---------------------------------------  15.5/15.5 MB 2.7 MB/s eta 0:00:01\n",
      "   ---------------------------------------- 15.5/15.5 MB 2.6 MB/s eta 0:00:00\n",
      "Downloading opt_einsum-3.4.0-py3-none-any.whl (71 kB)\n",
      "   ---------------------------------------- 0.0/71.9 kB ? eta -:--:--\n",
      "   ---------------------------------------- 71.9/71.9 kB 3.9 MB/s eta 0:00:00\n",
      "Downloading protobuf-4.25.5-cp310-abi3-win_amd64.whl (413 kB)\n",
      "   ---------------------------------------- 0.0/413.4 kB ? eta -:--:--\n",
      "   ---------- ----------------------------- 112.6/413.4 kB 3.3 MB/s eta 0:00:01\n",
      "   ---------- ----------------------------- 112.6/413.4 kB 3.3 MB/s eta 0:00:01\n",
      "   -------------------------------- ------- 337.9/413.4 kB 2.6 MB/s eta 0:00:01\n",
      "   ---------------------------------------- 413.4/413.4 kB 2.9 MB/s eta 0:00:00\n",
      "Using cached tensorboard-2.17.1-py3-none-any.whl (5.5 MB)\n",
      "Using cached termcolor-2.4.0-py3-none-any.whl (7.7 kB)\n",
      "Downloading wrapt-1.16.0-cp312-cp312-win_amd64.whl (37 kB)\n",
      "Downloading Markdown-3.7-py3-none-any.whl (106 kB)\n",
      "   ---------------------------------------- 0.0/106.3 kB ? eta -:--:--\n",
      "   --------------- ------------------------ 41.0/106.3 kB 1.9 MB/s eta 0:00:01\n",
      "   ---------------------------------------- 106.3/106.3 kB 1.2 MB/s eta 0:00:00\n",
      "Using cached tensorboard_data_server-0.7.2-py3-none-any.whl (2.4 kB)\n",
      "Downloading werkzeug-3.0.4-py3-none-any.whl (227 kB)\n",
      "   ---------------------------------------- 0.0/227.6 kB ? eta -:--:--\n",
      "   ---------- ----------------------------- 61.4/227.6 kB 3.2 MB/s eta 0:00:01\n",
      "   ---------------------------------------  225.3/227.6 kB 3.4 MB/s eta 0:00:01\n",
      "   ---------------------------------------- 227.6/227.6 kB 2.8 MB/s eta 0:00:00\n",
      "Using cached namex-0.0.8-py3-none-any.whl (5.8 kB)\n",
      "Using cached optree-0.12.1-cp312-cp312-win_amd64.whl (267 kB)\n",
      "Downloading rich-13.9.1-py3-none-any.whl (242 kB)\n",
      "   ---------------------------------------- 0.0/242.1 kB ? eta -:--:--\n",
      "   ------------- -------------------------- 81.9/242.1 kB 2.3 MB/s eta 0:00:01\n",
      "   ---------------------------------------- 242.1/242.1 kB 3.0 MB/s eta 0:00:00\n",
      "Downloading markdown_it_py-3.0.0-py3-none-any.whl (87 kB)\n",
      "   ---------------------------------------- 0.0/87.5 kB ? eta -:--:--\n",
      "   ---------------------------------------- 0.0/87.5 kB ? eta -:--:--\n",
      "   ---- ----------------------------------- 10.2/87.5 kB ? eta -:--:--\n",
      "   -------------- ------------------------- 30.7/87.5 kB 660.6 kB/s eta 0:00:01\n",
      "   -------------- ------------------------- 30.7/87.5 kB 660.6 kB/s eta 0:00:01\n",
      "   ---------------------------------------- 87.5/87.5 kB 618.3 kB/s eta 0:00:00\n",
      "Downloading mdurl-0.1.2-py3-none-any.whl (10.0 kB)\n",
      "Installing collected packages: namex, libclang, flatbuffers, wrapt, werkzeug, termcolor, tensorboard-data-server, protobuf, optree, opt-einsum, numpy, mdurl, markdown, grpcio, google-pasta, gast, astunparse, absl-py, tensorboard, ml-dtypes, markdown-it-py, h5py, rich, keras, tensorflow-intel, tensorflow\n",
      "  Attempting uninstall: numpy\n",
      "    Found existing installation: numpy 2.0.0\n",
      "    Uninstalling numpy-2.0.0:\n",
      "      Successfully uninstalled numpy-2.0.0\n",
      "Successfully installed absl-py-2.1.0 astunparse-1.6.3 flatbuffers-24.3.25 gast-0.6.0 google-pasta-0.2.0 grpcio-1.66.2 h5py-3.12.1 keras-3.5.0 libclang-18.1.1 markdown-3.7 markdown-it-py-3.0.0 mdurl-0.1.2 ml-dtypes-0.4.1 namex-0.0.8 numpy-1.26.4 opt-einsum-3.4.0 optree-0.12.1 protobuf-4.25.5 rich-13.9.1 tensorboard-2.17.1 tensorboard-data-server-0.7.2 tensorflow-2.17.0 tensorflow-intel-2.17.0 termcolor-2.4.0 werkzeug-3.0.4 wrapt-1.16.0\n"
     ]
    },
    {
     "name": "stderr",
     "output_type": "stream",
     "text": [
      "  WARNING: The script f2py.exe is installed in 'c:\\Desktop\\Sam's Python\\.conda\\Scripts' which is not on PATH.\n",
      "  Consider adding this directory to PATH or, if you prefer to suppress this warning, use --no-warn-script-location.\n",
      "  WARNING: Failed to remove contents in a temporary directory 'C:\\Desktop\\Sam's Python\\.conda\\Lib\\site-packages\\~umpy.libs'.\n",
      "  You can safely remove it manually.\n",
      "  WARNING: Failed to remove contents in a temporary directory 'C:\\Desktop\\Sam's Python\\.conda\\Lib\\site-packages\\~umpy'.\n",
      "  You can safely remove it manually.\n",
      "  WARNING: The script markdown_py.exe is installed in 'c:\\Desktop\\Sam's Python\\.conda\\Scripts' which is not on PATH.\n",
      "  Consider adding this directory to PATH or, if you prefer to suppress this warning, use --no-warn-script-location.\n",
      "  WARNING: The script tensorboard.exe is installed in 'c:\\Desktop\\Sam's Python\\.conda\\Scripts' which is not on PATH.\n",
      "  Consider adding this directory to PATH or, if you prefer to suppress this warning, use --no-warn-script-location.\n",
      "  WARNING: The script markdown-it.exe is installed in 'c:\\Desktop\\Sam's Python\\.conda\\Scripts' which is not on PATH.\n",
      "  Consider adding this directory to PATH or, if you prefer to suppress this warning, use --no-warn-script-location.\n",
      "  WARNING: The scripts import_pb_to_tensorboard.exe, saved_model_cli.exe, tensorboard.exe, tf_upgrade_v2.exe, tflite_convert.exe, toco.exe and toco_from_protos.exe are installed in 'c:\\Desktop\\Sam's Python\\.conda\\Scripts' which is not on PATH.\n",
      "  Consider adding this directory to PATH or, if you prefer to suppress this warning, use --no-warn-script-location.\n"
     ]
    }
   ],
   "source": [
    "pip install tensorflow"
   ]
  },
  {
   "cell_type": "code",
   "execution_count": 1,
   "metadata": {},
   "outputs": [
    {
     "ename": "ModuleNotFoundError",
     "evalue": "No module named 'tensorflow'",
     "output_type": "error",
     "traceback": [
      "\u001b[1;31m---------------------------------------------------------------------------\u001b[0m",
      "\u001b[1;31mModuleNotFoundError\u001b[0m                       Traceback (most recent call last)",
      "Cell \u001b[1;32mIn[1], line 4\u001b[0m\n\u001b[0;32m      2\u001b[0m \u001b[38;5;28;01mimport\u001b[39;00m \u001b[38;5;21;01mnumpy\u001b[39;00m \u001b[38;5;28;01mas\u001b[39;00m \u001b[38;5;21;01mnp\u001b[39;00m\n\u001b[0;32m      3\u001b[0m \u001b[38;5;28;01mfrom\u001b[39;00m \u001b[38;5;21;01msklearn\u001b[39;00m \u001b[38;5;28;01mimport\u001b[39;00m linear_model\n\u001b[1;32m----> 4\u001b[0m \u001b[38;5;28;01mimport\u001b[39;00m \u001b[38;5;21;01mtensorflow\u001b[39;00m\n",
      "\u001b[1;31mModuleNotFoundError\u001b[0m: No module named 'tensorflow'"
     ]
    }
   ],
   "source": [
    "import pandas as pd\n",
    "import numpy as np\n",
    "from sklearn import linear_model\n",
    "import tensorflow"
   ]
  },
  {
   "cell_type": "code",
   "execution_count": 2,
   "metadata": {},
   "outputs": [
    {
     "data": {
      "text/html": [
       "<div>\n",
       "<style scoped>\n",
       "    .dataframe tbody tr th:only-of-type {\n",
       "        vertical-align: middle;\n",
       "    }\n",
       "\n",
       "    .dataframe tbody tr th {\n",
       "        vertical-align: top;\n",
       "    }\n",
       "\n",
       "    .dataframe thead th {\n",
       "        text-align: right;\n",
       "    }\n",
       "</style>\n",
       "<table border=\"1\" class=\"dataframe\">\n",
       "  <thead>\n",
       "    <tr style=\"text-align: right;\">\n",
       "      <th></th>\n",
       "      <th>area</th>\n",
       "      <th>price</th>\n",
       "    </tr>\n",
       "  </thead>\n",
       "  <tbody>\n",
       "    <tr>\n",
       "      <th>0</th>\n",
       "      <td>2600</td>\n",
       "      <td>550000</td>\n",
       "    </tr>\n",
       "    <tr>\n",
       "      <th>1</th>\n",
       "      <td>3000</td>\n",
       "      <td>565000</td>\n",
       "    </tr>\n",
       "    <tr>\n",
       "      <th>2</th>\n",
       "      <td>3200</td>\n",
       "      <td>610000</td>\n",
       "    </tr>\n",
       "    <tr>\n",
       "      <th>3</th>\n",
       "      <td>3600</td>\n",
       "      <td>680000</td>\n",
       "    </tr>\n",
       "    <tr>\n",
       "      <th>4</th>\n",
       "      <td>4000</td>\n",
       "      <td>725000</td>\n",
       "    </tr>\n",
       "  </tbody>\n",
       "</table>\n",
       "</div>"
      ],
      "text/plain": [
       "   area   price\n",
       "0  2600  550000\n",
       "1  3000  565000\n",
       "2  3200  610000\n",
       "3  3600  680000\n",
       "4  4000  725000"
      ]
     },
     "execution_count": 2,
     "metadata": {},
     "output_type": "execute_result"
    }
   ],
   "source": [
    "df = pd.read_csv(\"homeprices.csv\")\n",
    "df.head()"
   ]
  },
  {
   "cell_type": "code",
   "execution_count": 3,
   "metadata": {},
   "outputs": [
    {
     "data": {
      "text/plain": [
       "LinearRegression(copy_X=True, fit_intercept=True, n_jobs=None,\n",
       "         normalize=False)"
      ]
     },
     "execution_count": 3,
     "metadata": {},
     "output_type": "execute_result"
    }
   ],
   "source": [
    "model = linear_model.LinearRegression()\n",
    "model.fit(df[['area']],df.price)"
   ]
  },
  {
   "cell_type": "code",
   "execution_count": 4,
   "metadata": {},
   "outputs": [
    {
     "data": {
      "text/plain": [
       "array([135.78767123])"
      ]
     },
     "execution_count": 4,
     "metadata": {},
     "output_type": "execute_result"
    }
   ],
   "source": [
    "model.coef_"
   ]
  },
  {
   "cell_type": "code",
   "execution_count": 5,
   "metadata": {},
   "outputs": [
    {
     "data": {
      "text/plain": [
       "180616.43835616432"
      ]
     },
     "execution_count": 5,
     "metadata": {},
     "output_type": "execute_result"
    }
   ],
   "source": [
    "model.intercept_"
   ]
  },
  {
   "cell_type": "code",
   "execution_count": 7,
   "metadata": {},
   "outputs": [
    {
     "data": {
      "text/plain": [
       "array([859554.79452055])"
      ]
     },
     "execution_count": 7,
     "metadata": {},
     "output_type": "execute_result"
    }
   ],
   "source": [
    "model.predict([[5000]])"
   ]
  },
  {
   "cell_type": "markdown",
   "metadata": {},
   "source": [
    "<h3 style='color:purple'>Save Model To a File Using Python Pickle</h3>"
   ]
  },
  {
   "cell_type": "code",
   "execution_count": 8,
   "metadata": {},
   "outputs": [],
   "source": [
    "import pickle"
   ]
  },
  {
   "cell_type": "code",
   "execution_count": 9,
   "metadata": {},
   "outputs": [],
   "source": [
    "with open('model_pickle','wb') as file:\n",
    "    pickle.dump(model,file)"
   ]
  },
  {
   "cell_type": "markdown",
   "metadata": {},
   "source": [
    "<h4 style='color:purple'>Load Saved Model</h4>"
   ]
  },
  {
   "cell_type": "code",
   "execution_count": 10,
   "metadata": {},
   "outputs": [],
   "source": [
    "with open('model_pickle','rb') as file:\n",
    "    mp = pickle.load(file)"
   ]
  },
  {
   "cell_type": "code",
   "execution_count": 11,
   "metadata": {},
   "outputs": [
    {
     "data": {
      "text/plain": [
       "array([135.78767123])"
      ]
     },
     "execution_count": 11,
     "metadata": {},
     "output_type": "execute_result"
    }
   ],
   "source": [
    "mp.coef_"
   ]
  },
  {
   "cell_type": "code",
   "execution_count": 12,
   "metadata": {
    "scrolled": true
   },
   "outputs": [
    {
     "data": {
      "text/plain": [
       "180616.43835616432"
      ]
     },
     "execution_count": 12,
     "metadata": {},
     "output_type": "execute_result"
    }
   ],
   "source": [
    "mp.intercept_"
   ]
  },
  {
   "cell_type": "code",
   "execution_count": 13,
   "metadata": {},
   "outputs": [
    {
     "data": {
      "text/plain": [
       "array([859554.79452055])"
      ]
     },
     "execution_count": 13,
     "metadata": {},
     "output_type": "execute_result"
    }
   ],
   "source": [
    "mp.predict([[5000]])"
   ]
  },
  {
   "cell_type": "markdown",
   "metadata": {},
   "source": [
    "<h3 style='color:purple'>Save Trained Model Using joblib</h3>"
   ]
  },
  {
   "cell_type": "code",
   "execution_count": 14,
   "metadata": {},
   "outputs": [],
   "source": [
    "from sklearn.externals import joblib"
   ]
  },
  {
   "cell_type": "code",
   "execution_count": 15,
   "metadata": {},
   "outputs": [
    {
     "data": {
      "text/plain": [
       "['model_joblib']"
      ]
     },
     "execution_count": 15,
     "metadata": {},
     "output_type": "execute_result"
    }
   ],
   "source": [
    "joblib.dump(model, 'model_joblib')"
   ]
  },
  {
   "cell_type": "markdown",
   "metadata": {},
   "source": [
    "<h4 style='color:purple'>Load Saved Model</h4>"
   ]
  },
  {
   "cell_type": "code",
   "execution_count": 16,
   "metadata": {},
   "outputs": [],
   "source": [
    "mj = joblib.load('model_joblib')"
   ]
  },
  {
   "cell_type": "code",
   "execution_count": 17,
   "metadata": {},
   "outputs": [
    {
     "data": {
      "text/plain": [
       "array([135.78767123])"
      ]
     },
     "execution_count": 17,
     "metadata": {},
     "output_type": "execute_result"
    }
   ],
   "source": [
    "mj.coef_"
   ]
  },
  {
   "cell_type": "code",
   "execution_count": 18,
   "metadata": {
    "scrolled": true
   },
   "outputs": [
    {
     "data": {
      "text/plain": [
       "180616.43835616432"
      ]
     },
     "execution_count": 18,
     "metadata": {},
     "output_type": "execute_result"
    }
   ],
   "source": [
    "mj.intercept_"
   ]
  },
  {
   "cell_type": "code",
   "execution_count": 19,
   "metadata": {},
   "outputs": [
    {
     "data": {
      "text/plain": [
       "array([859554.79452055])"
      ]
     },
     "execution_count": 19,
     "metadata": {},
     "output_type": "execute_result"
    }
   ],
   "source": [
    "mj.predict([[5000]])"
   ]
  }
 ],
 "metadata": {
  "kernelspec": {
   "display_name": ".conda",
   "language": "python",
   "name": "python3"
  },
  "language_info": {
   "codemirror_mode": {
    "name": "ipython",
    "version": 3
   },
   "file_extension": ".py",
   "mimetype": "text/x-python",
   "name": "python",
   "nbconvert_exporter": "python",
   "pygments_lexer": "ipython3",
   "version": "3.12.4"
  }
 },
 "nbformat": 4,
 "nbformat_minor": 2
}
